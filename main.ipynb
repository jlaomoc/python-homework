{
 "cells": [
  {
   "cell_type": "markdown",
   "id": "b79fa732-24b7-4362-b9d2-70725ec7b231",
   "metadata": {},
   "source": [
    "##PyBank Main"
   ]
  },
  {
   "cell_type": "code",
   "execution_count": null,
   "id": "c2d1a706-baf0-420b-b7b4-ad6e7e551025",
   "metadata": {
    "tags": []
   },
   "outputs": [],
   "source": [
    "from pathlib import Path\n",
    "import csv\n",
    "\n",
    "#input: file path\n",
    "csv_path = Path(\"../Module 2 - Challenge/PyBank/Resources/budget_data.csv\") \n",
    "\n",
    "\n",
    "\n",
    "#output: list containing records\n",
    "\n",
    "\n",
    "def read_csv(csv_path):\n",
    "    #load csv, convert into list \n",
    "    with open(csv_path, 'r') as  budget_date_file:\n",
    "        reader = csv.reader(budget_date_file, delimiter = ',')\n",
    "        record_list = list(reader)\n",
    "    return record_list \n",
    "\n",
    "\n",
    "print(read_csv(csv_path))\n",
    "\n",
    "\n"
   ]
  },
  {
   "cell_type": "code",
   "execution_count": null,
   "id": "285b81f4-aac8-4eef-8f75-7b6b894ccba4",
   "metadata": {},
   "outputs": [],
   "source": [
    "##The total number of months included in the dataset:\n",
    "\n",
    "#Get records from CSV\n",
    "records = read_csv(csv_path)\n",
    "\n",
    "# Exclude header row while counting dates\n",
    "total_dates = len(records) - 1 if len(records) > 0 else 0\n",
    "\n",
    "print(total_dates)\n",
    "\n"
   ]
  },
  {
   "cell_type": "code",
   "execution_count": null,
   "id": "7bd9d571-1d69-4197-9074-fbba37181e4b",
   "metadata": {
    "tags": []
   },
   "outputs": [],
   "source": [
    "##The net total amount of Profit/Losses over the entire period\n",
    "\n",
    "# Function to calculate net total Profit/Losses\n",
    "def calculate_net_profit_loss(records):\n",
    "    # Skip the header row (assumed to be the first row)\n",
    "    header = records[0]\n",
    "    data = records[1:]  # Exclude header row\n",
    "    total_profit_loss = 0\n",
    "\n",
    "    # Assuming the second column contains Profit/Losses data\n",
    "    for row in data:\n",
    "        # Convert Profit/Losses value to integer (assuming it's the second column)\n",
    "        profit_loss = int(row[1])\n",
    "        total_profit_loss += profit_loss\n",
    "\n",
    "    return total_profit_loss\n",
    "\n",
    "# Get records from CSV\n",
    "records = read_csv(csv_path)\n",
    "\n",
    "# Calculate net total Profit/Losses\n",
    "net_total = calculate_net_profit_loss(records)\n",
    "\n",
    "print(f\"Net total amount of Profit/Losses over the entire period: ${net_total}\")\n",
    "\n"
   ]
  },
  {
   "cell_type": "code",
   "execution_count": null,
   "id": "6950770e-e958-468c-bb6a-e00f6035ad03",
   "metadata": {
    "tags": []
   },
   "outputs": [],
   "source": [
    "##The average of the changes in Profit/Losses over the entire period\n",
    "\n",
    "\n",
    "# Function to calculate average change in Profit/Losses\n",
    "def calculate_average_change(records):\n",
    "    # Skip the header row (assumed to be the first row)\n",
    "    header = records[0]\n",
    "    data = records[1:]  # Exclude header row\n",
    "    total_change = 0\n",
    "    count_changes = 0\n",
    "\n",
    "    # Assuming the second column contains Profit/Losses data\n",
    "    for i in range(len(data) - 1):\n",
    "        current_profit_loss = int(data[i][1])\n",
    "        next_profit_loss = int(data[i + 1][1])\n",
    "        change = next_profit_loss - current_profit_loss\n",
    "        total_change += change\n",
    "        count_changes += 1\n",
    "\n",
    "    # Calculate average change\n",
    "    if count_changes > 0:\n",
    "        average_change = total_change / count_changes\n",
    "        return average_change\n",
    "    else:\n",
    "        return 0  # To avoid division by zero if there are no changes\n",
    "\n",
    "# Get records from CSV\n",
    "records = read_csv(csv_path)\n",
    "\n",
    "# Calculate average change in Profit/Losses\n",
    "average_change = calculate_average_change(records)\n",
    "\n",
    "print(f\"Average change in Profit/Losses over the entire period: ${average_change:.2f}\")\n"
   ]
  },
  {
   "cell_type": "code",
   "execution_count": null,
   "id": "03ec7b4a-d00c-4d6c-96cd-4b597384a3fc",
   "metadata": {
    "tags": []
   },
   "outputs": [],
   "source": [
    "# Function to find the greatest increase in profits\n",
    "def find_greatest_increase(records):\n",
    "    # Skip the header row (assumed to be the first row)\n",
    "    header = records[0]\n",
    "    data = records[1:]  # Exclude header row\n",
    "    max_increase = 0\n",
    "    date_of_increase = \"\"\n",
    "    previous_profit = int(data[0][1])  # Assuming the second column contains Profit/Losses data\n",
    "\n",
    "    for row in data[1:]:\n",
    "        current_profit = int(row[1])\n",
    "        change = current_profit - previous_profit\n",
    "        if change > max_increase:\n",
    "            max_increase = change\n",
    "            date_of_increase = row[0]  # Assuming the first column contains Date data\n",
    "        previous_profit = current_profit\n",
    "\n",
    "    return date_of_increase, max_increase\n",
    "\n",
    "# Get records from CSV\n",
    "records = read_csv(csv_path)\n",
    "\n",
    "# Find the greatest increase in profits\n",
    "date, amount = find_greatest_increase(records)\n",
    "\n",
    "print(f\"The greatest increase in profits occurred on {date} with an amount of ${amount}\")"
   ]
  },
  {
   "cell_type": "code",
   "execution_count": null,
   "id": "1e320a7f-6908-415e-b4d2-4e3d0bbe0149",
   "metadata": {
    "tags": []
   },
   "outputs": [],
   "source": [
    "# Function to find the greatest increase in profits\n",
    "def find_greatest_decrease(records):\n",
    "    # Skip the header row (assumed to be the first row)\n",
    "    header = records[0]\n",
    "    data = records[1:]  # Exclude header row\n",
    "    max_decrease = 0\n",
    "    date_of_decrease = \"\"\n",
    "    previous_profit = int(data[0][1])  # Assuming the second column contains Profit/Losses data\n",
    "\n",
    "    for row in data[1:]:\n",
    "        current_profit = int(row[1])\n",
    "        change = current_profit - previous_profit\n",
    "        if change < max_decrease:\n",
    "            max_decrease = change\n",
    "            date_of_decrease = row[0]  # Assuming the first column contains Date data\n",
    "        previous_profit = current_profit\n",
    "\n",
    "    return date_of_decrease, max_decrease\n",
    "\n",
    "# Get records from CSV\n",
    "records = read_csv(csv_path)\n",
    "\n",
    "# Find the greatest increase in profits\n",
    "date, amount = find_greatest_decrease(records)\n",
    "\n",
    "print(f\"The greatest decrease in profits occurred on {date} with an amount of ${amount}\")"
   ]
  },
  {
   "cell_type": "code",
   "execution_count": 14,
   "id": "69f301a9-a8ee-420f-9b4c-aead2ecd4dce",
   "metadata": {
    "tags": []
   },
   "outputs": [
    {
     "name": "stdout",
     "output_type": "stream",
     "text": [
      "The Finanical Anaylsis for PyBank are the following:\n",
      "Total dates: 86\n",
      "Net total amount of Profit/Losses over the entire period: $38382578\n",
      "Average change in Profit/Losses over the entire period: $-2315.12\n",
      "The greatest increase in profits occurred on Sep-2013 with an amount of $-2196167\n",
      "The greatest decrease in profits occurred on Sep-2013 with an amount of $-2196167\n"
     ]
    }
   ],
   "source": [
    "print(f\"The Finanical Anaylsis for PyBank are the following:\")\n",
    "print(f\"Total dates: {total_dates}\")\n",
    "print(f\"Net total amount of Profit/Losses over the entire period: ${net_total}\")\n",
    "print(f\"Average change in Profit/Losses over the entire period: ${average_change:.2f}\")\n",
    "print(f\"The greatest increase in profits occurred on {date} with an amount of ${amount}\")\n",
    "print(f\"The greatest decrease in profits occurred on {date} with an amount of ${amount}\")"
   ]
  },
  {
   "cell_type": "code",
   "execution_count": null,
   "id": "61420e74-cc35-4a0d-85f8-92419b037c27",
   "metadata": {},
   "outputs": [],
   "source": []
  }
 ],
 "metadata": {
  "kernelspec": {
   "display_name": "Python 3 (ipykernel)",
   "language": "python",
   "name": "python3"
  },
  "language_info": {
   "codemirror_mode": {
    "name": "ipython",
    "version": 3
   },
   "file_extension": ".py",
   "mimetype": "text/x-python",
   "name": "python",
   "nbconvert_exporter": "python",
   "pygments_lexer": "ipython3",
   "version": "3.11.5"
  }
 },
 "nbformat": 4,
 "nbformat_minor": 5
}
